{
 "cells": [
  {
   "cell_type": "code",
   "execution_count": 1,
   "metadata": {},
   "outputs": [],
   "source": [
    "import pandas as pd\n",
    "# Really we should use cross-validation to choose params, not train-test-split.\n",
    "from sklearn.model_selection import cross_val_score, train_test_split\n",
    "from sklearn.feature_extraction.text import TfidfVectorizer\n",
    "from sklearn.linear_model import LogisticRegressionCV\n",
    "from sklearn.pipeline import Pipeline\n",
    "from sklearn.svm import OneClassSVM\n",
    "from sklearn.ensemble import IsolationForest\n",
    "from sklearn.base import BaseEstimator"
   ]
  },
  {
   "cell_type": "code",
   "execution_count": 2,
   "metadata": {},
   "outputs": [
    {
     "data": {
      "text/html": [
       "<div>\n",
       "<style scoped>\n",
       "    .dataframe tbody tr th:only-of-type {\n",
       "        vertical-align: middle;\n",
       "    }\n",
       "\n",
       "    .dataframe tbody tr th {\n",
       "        vertical-align: top;\n",
       "    }\n",
       "\n",
       "    .dataframe thead th {\n",
       "        text-align: right;\n",
       "    }\n",
       "</style>\n",
       "<table border=\"1\" class=\"dataframe\">\n",
       "  <thead>\n",
       "    <tr style=\"text-align: right;\">\n",
       "      <th></th>\n",
       "      <th>text</th>\n",
       "      <th>label</th>\n",
       "    </tr>\n",
       "  </thead>\n",
       "  <tbody>\n",
       "    <tr>\n",
       "      <th>0</th>\n",
       "      <td>How hot is it today?</td>\n",
       "      <td>temperature</td>\n",
       "    </tr>\n",
       "    <tr>\n",
       "      <th>1</th>\n",
       "      <td>Is it hot outside?</td>\n",
       "      <td>temperature</td>\n",
       "    </tr>\n",
       "    <tr>\n",
       "      <th>2</th>\n",
       "      <td>Will it be uncomfortably hot?</td>\n",
       "      <td>temperature</td>\n",
       "    </tr>\n",
       "    <tr>\n",
       "      <th>3</th>\n",
       "      <td>Will it be sweltering?</td>\n",
       "      <td>temperature</td>\n",
       "    </tr>\n",
       "    <tr>\n",
       "      <th>4</th>\n",
       "      <td>How cold is it today?</td>\n",
       "      <td>temperature</td>\n",
       "    </tr>\n",
       "  </tbody>\n",
       "</table>\n",
       "</div>"
      ],
      "text/plain": [
       "                            text        label\n",
       "0           How hot is it today?  temperature\n",
       "1             Is it hot outside?  temperature\n",
       "2  Will it be uncomfortably hot?  temperature\n",
       "3         Will it be sweltering?  temperature\n",
       "4          How cold is it today?  temperature"
      ]
     },
     "execution_count": 2,
     "metadata": {},
     "output_type": "execute_result"
    }
   ],
   "source": [
    "df = pd.read_csv('weather.csv')\n",
    "df.head()"
   ]
  },
  {
   "cell_type": "code",
   "execution_count": 3,
   "metadata": {},
   "outputs": [],
   "source": [
    "offtopic = [\n",
    "    # FRom http://www.richkni.co.uk/php/text/text.php\n",
    "    'Now is the winter of our discontent',\n",
    "    'Made glorious summer by this sun of York;',\n",
    "    'And all the clouds that lour\\'d upon our house',\n",
    "    'In the deep bosom of the ocean buried.',\n",
    "    'Now are our brows bound with victorious wreaths;',\n",
    "    'Our bruised arms hung up for monuments;',\n",
    "    'Our stern alarums changed to merry meetings,',\n",
    "    'Our dreadful marches to delightful measures.',\n",
    "    'Grim-visaged war hath smooth\\'d his wrinkled front;' ,\n",
    "    'And now, instead of mounting barded steeds',\n",
    "    'To fright the souls of fearful adversaries,',\n",
    "    'He capers nimbly in a lady\\'s chamber',\n",
    "    'To the lascivious pleasing of a lute.',\n",
    "    'But I, that am not shaped for sportive tricks',\n",
    "    'Nor made to court an amorous looking-glass',\n",
    "    'I, that am rudely stamp\\'d, and want love\\'s majesty',\n",
    "    'To strut before a wanton ambling nymph;',\n",
    "    'I, that am curtail\\'d of this fair proportion,',\n",
    "]"
   ]
  },
  {
   "cell_type": "code",
   "execution_count": 4,
   "metadata": {},
   "outputs": [],
   "source": [
    "class TextClassifier(BaseEstimator):\n",
    "    def __init__(self, tfidf_params={}, classifier_params={}, anomaly_detector_params={}, preprocessor=None):\n",
    "        self.tfidf_params = tfidf_params\n",
    "        if 'ngram_range' not in tfidf_params:\n",
    "            tfidf_params['ngram_range'] = (2, 3)\n",
    "        self.classifier_params = classifier_params\n",
    "        self.preprocessor = preprocessor\n",
    "        self._tfidf = TfidfVectorizer(analyzer='char', **self.tfidf_params)\n",
    "        self._clf = LogisticRegressionCV(**classifier_params)\n",
    "        self._anomaly_detector = AnomalyClassifier(tfidf_params, anomaly_detector_params)\n",
    "        \n",
    "    def fit(self, texts, labels):\n",
    "        if self.preprocessor is not None:\n",
    "            texts, labels = preprocessor(texts, labels)\n",
    "        self._clf.fit(self._tfidf.fit_transform(texts),\n",
    "                      labels)\n",
    "        return self\n",
    "        \n",
    "    def predict(self, text):\n",
    "        return self._clf.predict(self._tfidf.transform(text))\n",
    "        \n",
    "    def predict_proba(self, text):\n",
    "        return self._clf.predict_proba(self._tfidf.transform(text))"
   ]
  },
  {
   "cell_type": "code",
   "execution_count": 5,
   "metadata": {},
   "outputs": [
    {
     "name": "stderr",
     "output_type": "stream",
     "text": [
      "C:\\Users\\gauss\\AppData\\Local\\conda\\conda\\envs\\text\\lib\\site-packages\\sklearn\\linear_model\\logistic.py:460: FutureWarning: Default multi_class will be changed to 'auto' in 0.22. Specify the multi_class option to silence this warning.\n",
      "  \"this warning.\", FutureWarning)\n",
      "C:\\Users\\gauss\\AppData\\Local\\conda\\conda\\envs\\text\\lib\\site-packages\\sklearn\\model_selection\\_split.py:2053: FutureWarning: You should specify a value for 'cv' instead of relying on the default value. The default value will change from 3 to 5 in version 0.22.\n",
      "  warnings.warn(CV_WARNING, FutureWarning)\n"
     ]
    },
    {
     "data": {
      "text/plain": [
       "Pipeline(memory=None,\n",
       "     steps=[('tfidf', TfidfVectorizer(analyzer='char', binary=True, decode_error='strict',\n",
       "        dtype=<class 'numpy.float64'>, encoding='utf-8', input='content',\n",
       "        lowercase=True, max_df=1.0, max_features=None, min_df=1,\n",
       "        ngram_range=(2, 3), norm='l2', preprocessor=None, smooth_idf=True,\n",
       "...    random_state=None, refit=True, scoring=None, solver='lbfgs',\n",
       "           tol=0.0001, verbose=0))])"
      ]
     },
     "execution_count": 5,
     "metadata": {},
     "output_type": "execute_result"
    }
   ],
   "source": [
    "clf = Pipeline([\n",
    "    ('tfidf', TfidfVectorizer(binary=True, analyzer='char', ngram_range=(2, 3))),\n",
    "    ('clf', LogisticRegressionCV())\n",
    "])\n",
    "text_train, texts_test, labels_train, labels_test = train_test_split(list(df['text']) + offtopic,\n",
    "                                                                     list(df['label']) + ['offtopic'] * len(offtopic),\n",
    "                                                                     stratify=list(df['label']) + ['offtopic'] * len(offtopic), \n",
    "                                                                     random_state=42)\n",
    "clf.fit(text_train, labels_train)"
   ]
  },
  {
   "cell_type": "code",
   "execution_count": 6,
   "metadata": {},
   "outputs": [
    {
     "name": "stdout",
     "output_type": "stream",
     "text": [
      "How much rain will fall today?\n",
      "conditions\n",
      "conditions\n",
      "--------------------------------------------------------------------------------\n",
      "Will it be cloudy?\n",
      "conditions\n",
      "conditions\n",
      "--------------------------------------------------------------------------------\n",
      "Is it chilly?\n",
      "conditions\n",
      "temperature\n",
      "--------------------------------------------------------------------------------\n",
      "To fright the souls of fearful adversaries,\n",
      "offtopic\n",
      "offtopic\n",
      "--------------------------------------------------------------------------------\n",
      "When will the cold subside?\n",
      "temperature\n",
      "temperature\n",
      "--------------------------------------------------------------------------------\n",
      "Are the winds dangerous?\n",
      "conditions\n",
      "conditions\n",
      "--------------------------------------------------------------------------------\n",
      "To strut before a wanton ambling nymph;\n",
      "offtopic\n",
      "offtopic\n",
      "--------------------------------------------------------------------------------\n",
      "He capers nimbly in a lady's chamber\n",
      "conditions\n",
      "offtopic\n",
      "--------------------------------------------------------------------------------\n",
      "Is it cloudy?\n",
      "conditions\n",
      "conditions\n",
      "--------------------------------------------------------------------------------\n",
      "Is it hot?\n",
      "temperature\n",
      "temperature\n",
      "--------------------------------------------------------------------------------\n",
      "Will it be dry?\n",
      "conditions\n",
      "conditions\n",
      "--------------------------------------------------------------------------------\n",
      "How much snow do we expect?\n",
      "conditions\n",
      "conditions\n",
      "--------------------------------------------------------------------------------\n",
      "I, that am rudely stamp'd, and want love's majesty\n",
      "offtopic\n",
      "offtopic\n",
      "--------------------------------------------------------------------------------\n",
      "Will it be sweltering?\n",
      "conditions\n",
      "temperature\n",
      "--------------------------------------------------------------------------------\n",
      "What is the expected high for today?\n",
      "temperature\n",
      "temperature\n",
      "--------------------------------------------------------------------------------\n",
      "What is the expected snowfall today?\n",
      "conditions\n",
      "conditions\n",
      "--------------------------------------------------------------------------------\n",
      "Will it be uncomfortably cold?\n",
      "temperature\n",
      "temperature\n",
      "--------------------------------------------------------------------------------\n"
     ]
    }
   ],
   "source": [
    "for text, predicted_label, true_label in zip(texts_test, clf.predict(texts_test), labels_test):\n",
    "    print(text)\n",
    "    print(predicted_label)\n",
    "    print(true_label)\n",
    "    print('-' * 80)"
   ]
  },
  {
   "cell_type": "code",
   "execution_count": 8,
   "metadata": {},
   "outputs": [
    {
     "name": "stdout",
     "output_type": "stream",
     "text": [
      "Turn off the light\n",
      "offtopic\n",
      "--------------------------------------------------------------------------------\n",
      "What do you think about ELEX?\n",
      "offtopic\n",
      "--------------------------------------------------------------------------------\n",
      "Yet another offtopic sample\n",
      "offtopic\n",
      "--------------------------------------------------------------------------------\n"
     ]
    }
   ],
   "source": [
    "new_text = [\n",
    "    'Turn off the light',\n",
    "    'What do you think about ELEX?',\n",
    "    'Yet another offtopic sample'\n",
    "]\n",
    "for text, predicted_label in zip(new_text, clf.predict(new_text)):\n",
    "    print(text)\n",
    "    print(predicted_label)\n",
    "    print('-' * 80)"
   ]
  },
  {
   "cell_type": "code",
   "execution_count": 9,
   "metadata": {},
   "outputs": [
    {
     "name": "stdout",
     "output_type": "stream",
     "text": [
      "How low temperature we're expecting?\n",
      "temperature\n",
      "--------------------------------------------------------------------------------\n",
      "What weather conditions we're expecting?\n",
      "conditions\n",
      "--------------------------------------------------------------------------------\n"
     ]
    }
   ],
   "source": [
    "new_text = [\n",
    "    'How low temperature we\\'re expecting?',\n",
    "    'What weather conditions we\\'re expecting?',\n",
    "]\n",
    "for text, predicted_label in zip(new_text, clf.predict(new_text)):\n",
    "    print(text)\n",
    "    print(predicted_label)\n",
    "    print('-' * 80)"
   ]
  }
 ],
 "metadata": {
  "kernelspec": {
   "display_name": "Python 3",
   "language": "python",
   "name": "python3"
  },
  "language_info": {
   "codemirror_mode": {
    "name": "ipython",
    "version": 3
   },
   "file_extension": ".py",
   "mimetype": "text/x-python",
   "name": "python",
   "nbconvert_exporter": "python",
   "pygments_lexer": "ipython3",
   "version": "3.7.2"
  }
 },
 "nbformat": 4,
 "nbformat_minor": 2
}
